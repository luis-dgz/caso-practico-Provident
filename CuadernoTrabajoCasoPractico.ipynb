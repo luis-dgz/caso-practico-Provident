{
 "cells": [
  {
   "cell_type": "markdown",
   "metadata": {},
   "source": [
    "# Caso Práctico: Análisis y Forecast de Ventas\n",
    "\n",
    "## Objetivo:\n",
    "Evaluar la capacidad analítica para interpretar datos, detectar tendencias y proponer mejoras.  \n",
    "\n",
    "\n",
    "## Material:\n",
    "Un archivo de Excel con datos de ventas mensuales de tres productos en distintas regiones durante los últimos dos años.  \n",
    "\n",
    "\n",
    "## Tareas:\n",
    "1. Identificar Tendencias: Analizar la evolución de las ventas y resaltar patrones clave.\n",
    "2. Realizar un Forecast: Usa el programa con el que te sientas más cómodo para proyectar las ventas futuras.\n",
    "3. Detectar Insights y Áreas de Oportunidad: Escribir un breve análisis sobre qué está impulsando o afectando las ventas y qué estrategias podrían implementarse.\n"
   ]
  },
  {
   "cell_type": "markdown",
   "metadata": {},
   "source": [
    "## Análisis exploratorio"
   ]
  },
  {
   "cell_type": "code",
   "execution_count": null,
   "metadata": {},
   "outputs": [],
   "source": [
    "# Lectura File\n",
    "import pandas as pd\n",
    "\n",
    "datos = pd.read_csv('data/Datos.csv')\n",
    "datos.head()"
   ]
  },
  {
   "cell_type": "code",
   "execution_count": null,
   "metadata": {},
   "outputs": [],
   "source": [
    "# Tipos de datos\n",
    "datos.info()"
   ]
  },
  {
   "cell_type": "code",
   "execution_count": null,
   "metadata": {},
   "outputs": [],
   "source": [
    "# Formato tipo de datos adecuado para analisis \n",
    "# Formato fecha (año-mes)\n",
    "datos[\"Mes\"] = pd.to_datetime(datos[\"Mes\"], format=\"%Y-%m\")\n",
    "\n",
    "# Ajuste nombre\n",
    "datos.rename(columns={'Región':'Region'}, inplace=True)\n",
    "\n",
    "# Convertir \"Ventas\" a float\n",
    "datos[\"Ventas\"] = datos[\"Ventas\"].astype(float)\n",
    "\n",
    "datos.head()"
   ]
  },
  {
   "cell_type": "code",
   "execution_count": null,
   "metadata": {},
   "outputs": [],
   "source": [
    "# Cantidad de valores por mes\n",
    "datos['Mes'].value_counts().sort_index()"
   ]
  },
  {
   "cell_type": "code",
   "execution_count": null,
   "metadata": {},
   "outputs": [],
   "source": [
    "# Valores posibles en Producto\n",
    "datos['Producto'].value_counts()"
   ]
  },
  {
   "cell_type": "code",
   "execution_count": null,
   "metadata": {},
   "outputs": [],
   "source": [
    "# Valores posibles en Region\n",
    "datos['Region'].value_counts()"
   ]
  },
  {
   "cell_type": "markdown",
   "metadata": {},
   "source": [
    "Contamos con 2 años de información  \n",
    "3 productos diferentes y 3 Regiones diferentes"
   ]
  },
  {
   "cell_type": "code",
   "execution_count": null,
   "metadata": {},
   "outputs": [],
   "source": [
    "# Estadisticas descriptivas rapidas de ventas\n",
    "datos['Ventas'].describe()"
   ]
  },
  {
   "cell_type": "markdown",
   "metadata": {},
   "source": [
    "### Tendencia general"
   ]
  },
  {
   "cell_type": "code",
   "execution_count": null,
   "metadata": {},
   "outputs": [],
   "source": [
    "import seaborn as sns\n",
    "import matplotlib.pyplot as plt\n",
    "\n",
    "ventas_mensuales = datos.groupby(\"Mes\", as_index=False)[\"Ventas\"].sum()\n",
    "\n",
    "# Crear gráfica de línea\n",
    "plt.figure(figsize=(10,5))\n",
    "sns.lineplot(data=ventas_mensuales, x=\"Mes\", y=\"Ventas\", marker=\"o\")\n",
    "\n",
    "plt.title(\"Tendencia Global de Ventas\", fontsize=14)\n",
    "plt.xlabel(\"Mes\")\n",
    "plt.ylabel(\"Ventas Totales\")\n",
    "plt.xticks(rotation=45)\n",
    "\n",
    "plt.tight_layout()\n",
    "plt.savefig('imagenes/tendencia_global.png', dpi=300)\n",
    "plt.show()"
   ]
  },
  {
   "cell_type": "code",
   "execution_count": null,
   "metadata": {},
   "outputs": [],
   "source": [
    "# Ventas totales por Región\n",
    "plt.figure(figsize=(8,5))\n",
    "sns.barplot(data=datos, x=\"Region\", y=\"Ventas\", estimator=\"sum\", errorbar=None, color=\"skyblue\")\n",
    "plt.title(\"Ventas Totales por Región\", fontsize=14)\n",
    "plt.xlabel(\"Región\")\n",
    "plt.ylabel(\"Ventas Totales\")\n",
    "plt.tight_layout()\n",
    "plt.show()\n"
   ]
  },
  {
   "cell_type": "code",
   "execution_count": null,
   "metadata": {},
   "outputs": [],
   "source": [
    "datos.groupby('Region')['Ventas'].describe()"
   ]
  },
  {
   "cell_type": "code",
   "execution_count": null,
   "metadata": {},
   "outputs": [],
   "source": [
    "plt.figure(figsize=(8,5))\n",
    "sns.boxplot(\n",
    "    data=datos,\n",
    "    x=\"Region\", y=\"Ventas\",\n",
    "    hue=\"Region\",         \n",
    "    palette=\"Set2\",\n",
    "    legend=False\n",
    ")\n",
    "plt.title(\"Distribución de Ventas por Región\", fontsize=14)\n",
    "plt.xlabel(\"Región\")\n",
    "plt.ylabel(\"Ventas\")\n",
    "plt.tight_layout()\n",
    "plt.show()"
   ]
  },
  {
   "cell_type": "code",
   "execution_count": null,
   "metadata": {},
   "outputs": [],
   "source": [
    "# Ventas totales por producto\n",
    "plt.figure(figsize=(8,5))\n",
    "sns.barplot(data=datos, x=\"Producto\", y=\"Ventas\", estimator=\"sum\", errorbar=None, hue=\"Producto\", palette=\"viridis\",legend=False)\n",
    "plt.title(\"Ventas Totales por Producto\", fontsize=14)\n",
    "plt.xlabel(\"\")\n",
    "plt.ylabel(\"Ventas Totales\")\n",
    "plt.tight_layout()\n",
    "plt.show()"
   ]
  },
  {
   "cell_type": "code",
   "execution_count": null,
   "metadata": {},
   "outputs": [],
   "source": [
    "datos.groupby('Producto')['Ventas'].describe()"
   ]
  },
  {
   "cell_type": "code",
   "execution_count": null,
   "metadata": {},
   "outputs": [],
   "source": [
    "plt.figure(figsize=(8,5))\n",
    "sns.boxplot(\n",
    "    data=datos,\n",
    "    x=\"Producto\", y=\"Ventas\",\n",
    "    hue=\"Producto\",\n",
    "    palette=\"viridis\",\n",
    "    legend=False\n",
    ")\n",
    "plt.title(\"Distribución de Ventas por Producto\", fontsize=14)\n",
    "plt.xlabel(\"Producto\")\n",
    "plt.ylabel(\"Ventas\")\n",
    "plt.tight_layout()\n",
    "plt.show()"
   ]
  },
  {
   "cell_type": "code",
   "execution_count": null,
   "metadata": {},
   "outputs": [],
   "source": [
    "# === Script: Series de tiempo sin áreas sombreadas y con leyenda abajo derecha ===\n",
    "import seaborn as sns\n",
    "import matplotlib.pyplot as plt\n",
    "\n",
    "# Crear figura con dos subplots (uno arriba del otro)\n",
    "fig, axes = plt.subplots(2, 1, figsize=(12, 8), sharex=True)\n",
    "\n",
    "# 1. Serie de tiempo por Región (solo líneas)\n",
    "sns.lineplot(\n",
    "    data=datos,\n",
    "    x=\"Mes\", y=\"Ventas\",\n",
    "    hue=\"Region\",\n",
    "    marker=\"o\",\n",
    "    errorbar=None,   # elimina área sombreada\n",
    "    ax=axes[0]\n",
    ")\n",
    "axes[0].set_title(\"Tendencia de Ventas por Región\", fontsize=14)\n",
    "axes[0].set_xlabel(\"\")\n",
    "axes[0].set_ylabel(\"Ventas\")\n",
    "axes[0].legend(title=\"Región\", loc=\"lower right\")\n",
    "\n",
    "# 2. Serie de tiempo por Producto (solo líneas)\n",
    "sns.lineplot(\n",
    "    data=datos,\n",
    "    x=\"Mes\", y=\"Ventas\",\n",
    "    hue=\"Producto\",\n",
    "    marker=\"o\",\n",
    "    errorbar=None,   # elimina área sombreada\n",
    "    ax=axes[1]\n",
    ")\n",
    "axes[1].set_title(\"Tendencia de Ventas por Producto\", fontsize=14)\n",
    "axes[1].set_xlabel(\"Mes\")\n",
    "axes[1].set_ylabel(\"Ventas\")\n",
    "axes[1].legend(title=\"Producto\", loc=\"lower right\")\n",
    "\n",
    "# Ajustar diseño\n",
    "plt.tight_layout()\n",
    "plt.show()"
   ]
  },
  {
   "cell_type": "code",
   "execution_count": null,
   "metadata": {},
   "outputs": [],
   "source": [
    "from scipy.stats import f_oneway\n",
    "\n",
    "# ANOVA por Región\n",
    "grupo_region = [datos.loc[datos[\"Region\"]==r, \"Ventas\"] for r in datos[\"Region\"].unique()]\n",
    "anova_region = f_oneway(*grupo_region)\n",
    "print(\"ANOVA por Región:\", anova_region)\n",
    "\n",
    "# ANOVA por Producto\n",
    "grupo_producto = [datos.loc[datos[\"Producto\"]==p, \"Ventas\"] for p in datos[\"Producto\"].unique()]\n",
    "anova_producto = f_oneway(*grupo_producto)\n",
    "print(\"ANOVA por Producto:\", anova_producto)"
   ]
  },
  {
   "cell_type": "code",
   "execution_count": null,
   "metadata": {},
   "outputs": [],
   "source": [
    "from scipy.stats import kruskal\n",
    "\n",
    "# Kruskal-Wallis por Región\n",
    "kruskal_region = kruskal(*grupo_region)\n",
    "print(\"Kruskal-Wallis por Región:\", kruskal_region)\n",
    "\n",
    "# Kruskal-Wallis por Producto\n",
    "kruskal_producto = kruskal(*grupo_producto)\n",
    "print(\"Kruskal-Wallis por Producto:\", kruskal_producto)"
   ]
  },
  {
   "cell_type": "code",
   "execution_count": null,
   "metadata": {},
   "outputs": [],
   "source": [
    "import statsmodels.api as sm\n",
    "from statsmodels.formula.api import ols\n",
    "\n",
    "modelo = ols(\"Ventas ~ C(Region) + C(Producto) + C(Region):C(Producto)\", data=datos).fit()\n",
    "anova = sm.stats.anova_lm(modelo, typ=2)\n",
    "print(anova)"
   ]
  },
  {
   "cell_type": "code",
   "execution_count": null,
   "metadata": {},
   "outputs": [],
   "source": [
    "import pandas as pd\n",
    "import matplotlib.pyplot as plt\n",
    "from statsmodels.tsa.seasonal import seasonal_decompose\n",
    "\n",
    "# Asegúrate que la columna Mes sea el índice de la serie\n",
    "datos = datos.set_index(\"Mes\").sort_index()\n",
    "\n",
    "# --- 1. Serie Global ---\n",
    "serie_global = datos[\"Ventas\"].resample(\"M\").sum()\n",
    "\n",
    "descomp_global = seasonal_decompose(serie_global, model=\"additive\", period=12)\n",
    "\n",
    "plt.rcParams.update({\"figure.figsize\": (10,8)})\n",
    "descomp_global.plot()\n",
    "plt.suptitle(\"Descomposición Global de Ventas\", fontsize=14)\n",
    "plt.tight_layout()\n",
    "plt.show()\n",
    "\n",
    "# --- 2. Por Región ---\n",
    "for region in datos[\"Region\"].unique():\n",
    "    serie_region = datos[datos[\"Region\"] == region][\"Ventas\"].resample(\"M\").sum()\n",
    "    descomp = seasonal_decompose(serie_region, model=\"additive\", period=12)\n",
    "    descomp.plot()\n",
    "    plt.suptitle(f\"Descomposición de Ventas - Región: {region}\", fontsize=14)\n",
    "    plt.tight_layout()\n",
    "    plt.show()\n",
    "\n",
    "# --- 3. Por Producto ---\n",
    "for producto in datos[\"Producto\"].unique():\n",
    "    serie_producto = datos[datos[\"Producto\"] == producto][\"Ventas\"].resample(\"M\").sum()\n",
    "    descomp = seasonal_decompose(serie_producto, model=\"additive\", period=12)\n",
    "    descomp.plot()\n",
    "    plt.suptitle(f\"Descomposición de Ventas - Producto: {producto}\", fontsize=14)\n",
    "    plt.tight_layout()\n",
    "    plt.show()\n",
    "\n",
    "# --- 4. Por Región * Producto ---\n",
    "for region in datos[\"Region\"].unique():\n",
    "    for producto in datos[\"Producto\"].unique():\n",
    "        serie_sub = datos[(datos[\"Region\"] == region) & (datos[\"Producto\"] == producto)][\"Ventas\"].resample(\"M\").sum()\n",
    "        \n",
    "        # Evitar error si la serie está vacía o con pocos datos\n",
    "        if len(serie_sub) > 12:  \n",
    "            descomp = seasonal_decompose(serie_sub, model=\"additive\", period=12)\n",
    "            descomp.plot()\n",
    "            plt.suptitle(f\"Descomposición - Región: {region}, Producto: {producto}\", fontsize=14)\n",
    "            plt.tight_layout()\n",
    "            plt.show()"
   ]
  },
  {
   "cell_type": "markdown",
   "metadata": {},
   "source": [
    "Aunque las pruebas estadisticas no dieron diferencias signficativas entre Productos, Region y la interacción de los mismos, al realizar una Descomposición de estacionalidad de las series de tiempo se muestra como tienen comportamientos diferentes. Mismo que se logra apreciar en algunos boxplots al ver la distribucción de los datos. Por lo cual, se propone un modelo que considere ambos efectos. \n"
   ]
  },
  {
   "cell_type": "markdown",
   "metadata": {},
   "source": [
    "## Modelo Holt-Winters"
   ]
  },
  {
   "cell_type": "code",
   "execution_count": 50,
   "metadata": {},
   "outputs": [
    {
     "name": "stdout",
     "output_type": "stream",
     "text": [
      "Procesando: Producto A - Norte\n",
      "Procesando: Producto A - Centro\n",
      "Procesando: Producto A - Sur\n",
      "Procesando: Producto B - Norte\n",
      "Procesando: Producto B - Centro\n",
      "Procesando: Producto B - Sur\n",
      "Procesando: Producto C - Norte\n",
      "Procesando: Producto C - Centro\n",
      "Procesando: Producto C - Sur\n",
      "\n",
      "Generando pronóstico global...\n",
      "       Mes    Producto  Region  VentaEstimada  IntervaloBajo  IntervaloAlto\n",
      "0  2024-01  Producto A   Norte     260.335208     247.318447     273.351968\n",
      "1  2024-02  Producto A   Norte     307.347713     291.980327     322.715098\n",
      "2  2024-03  Producto A   Norte     239.366367     227.398048     251.334685\n",
      "3  2024-01  Producto A  Centro     270.375618     256.856837     283.894399\n",
      "4  2024-02  Producto A  Centro      70.373567      66.854888      73.892245\n"
     ]
    }
   ],
   "source": [
    "import os\n",
    "import pandas as pd\n",
    "import matplotlib.pyplot as plt\n",
    "from statsmodels.tsa.holtwinters import ExponentialSmoothing\n",
    "import warnings\n",
    "\n",
    "# Ocultar todos los warnings\n",
    "warnings.filterwarnings(\"ignore\")\n",
    "\n",
    "# Copiar dataset\n",
    "df = datos.copy()\n",
    "\n",
    "# Crear columna de interacción\n",
    "df['Interaccion'] = df['Producto'] + ' - ' + df['Region']\n",
    "combinaciones = df['Interaccion'].unique()\n",
    "\n",
    "# Crear carpeta de imágenes si no existe\n",
    "os.makedirs('imagenes', exist_ok=True)\n",
    "\n",
    "# DataFrame para guardar todos los pronósticos\n",
    "pronosticos_df = pd.DataFrame(columns=['Mes', 'Producto', 'Region', 'VentaEstimada', 'IntervaloBajo', 'IntervaloAlto'])\n",
    "\n",
    "# Iterar sobre cada combinación Producto-Region\n",
    "for comb in combinaciones:\n",
    "    print(f\"Procesando: {comb}\")\n",
    "    df_comb = df[df['Interaccion'] == comb].copy()\n",
    "    ts_comb = df_comb['Ventas']\n",
    "    \n",
    "    try:\n",
    "        # Ajustar Holt-Winters con tendencia y estacionalidad aditiva\n",
    "        model = ExponentialSmoothing(ts_comb, trend='add', seasonal='add', seasonal_periods=12)\n",
    "        fit_model = model.fit()\n",
    "        \n",
    "        # Pronóstico a 3 Meses\n",
    "        forecast = fit_model.forecast(steps=3)\n",
    "        \n",
    "        # Intervalo de confianza aproximado (+/-5%)\n",
    "        forecast_ci = pd.DataFrame({\n",
    "            'IntervaloBajo': forecast * 0.95,\n",
    "            'IntervaloAlto': forecast * 1.05\n",
    "        })\n",
    "        \n",
    "        # Guardar en DataFrame\n",
    "        temp_df = pd.DataFrame({\n",
    "            'Mes': forecast.index.to_period('M').strftime('%Y-%m'),\n",
    "            'Producto': df_comb['Producto'].iloc[0],\n",
    "            'Region': df_comb['Region'].iloc[0],\n",
    "            'VentaEstimada': forecast.values,\n",
    "            'IntervaloBajo': forecast_ci['IntervaloBajo'].values,\n",
    "            'IntervaloAlto': forecast_ci['IntervaloAlto'].values\n",
    "        })\n",
    "        pronosticos_df = pd.concat([pronosticos_df, temp_df], ignore_index=True)\n",
    "        \n",
    "        # Graficar y guardar imagen\n",
    "        plt.figure(figsize=(10,6))\n",
    "        ts_comb.plot(label='Ventas Históricas')\n",
    "        forecast.plot(label='Pronóstico a 3 Meses', color='red')\n",
    "\n",
    "        # Línea punteada para unir último histórico con primer pronóstico\n",
    "        plt.plot([ts_comb.index[-1], forecast.index[0]],\n",
    "                [ts_comb.iloc[-1], forecast.iloc[0]],\n",
    "                linestyle='--', color='red')\n",
    "        \n",
    "        plt.fill_between(forecast.index, forecast_ci['IntervaloBajo'], forecast_ci['IntervaloAlto'],\n",
    "                        color='r', alpha=0.25, label='Intervalo de Confianza (aprox. 5%)')\n",
    "        plt.title(f'Pronóstico de Ventas para {comb}')\n",
    "        plt.xlabel('Fecha')\n",
    "        plt.ylabel('Ventas')\n",
    "        plt.legend()\n",
    "        plt.grid(True)\n",
    "        \n",
    "        # Guardar imagen\n",
    "        producto = df_comb['Producto'].iloc[0].replace(\" \", \"\")\n",
    "        region = df_comb['Region'].iloc[0].replace(\" \", \"\")\n",
    "        plt.savefig(f'imagenes/{producto}{region}Estimacion.png')\n",
    "        plt.close()\n",
    "        \n",
    "    except Exception as e:\n",
    "        print(f\"No se pudo ajustar el modelo para {comb}. Error: {e}\")\n",
    "        continue\n",
    "\n",
    "# --- Pronóstico global ---\n",
    "print(\"\\nGenerando pronóstico global...\")\n",
    "ts_global = df.groupby('Mes')['Ventas'].sum()\n",
    "try:\n",
    "    model_global = ExponentialSmoothing(ts_global, trend='add', seasonal='add', seasonal_periods=12)\n",
    "    fit_global = model_global.fit()\n",
    "    \n",
    "    forecast_global = fit_global.forecast(steps=3)\n",
    "    forecast_ci_global = pd.DataFrame({\n",
    "        'IntervaloBajo': forecast_global * 0.95,\n",
    "        'IntervaloAlto': forecast_global * 1.05\n",
    "    })\n",
    "    \n",
    "    # Guardar pronóstico global en DataFrame\n",
    "    temp_global_df = pd.DataFrame({\n",
    "        'Mes': forecast_global.index.to_period('M').strftime('%Y-%m'),\n",
    "        'Producto': 'Global',\n",
    "        'Region': 'Global',\n",
    "        'VentaEstimada': forecast_global.values,\n",
    "        'IntervaloBajo': forecast_ci_global['IntervaloBajo'].values,\n",
    "        'IntervaloAlto': forecast_ci_global['IntervaloAlto'].values\n",
    "    })\n",
    "    pronosticos_df = pd.concat([pronosticos_df, temp_global_df], ignore_index=True)\n",
    "    \n",
    "    # Graficar y guardar imagen global\n",
    "    plt.figure(figsize=(10,6))\n",
    "    ts_global.plot(label='Ventas Históricas Globales')\n",
    "    forecast_global.plot(label='Pronóstico Global a 3 Meses', color='red')\n",
    "    \n",
    "    # Línea punteada para unir último histórico con primer pronóstico global\n",
    "    plt.plot([ts_global.index[-1], forecast_global.index[0]],\n",
    "            [ts_global.iloc[-1], forecast_global.iloc[0]],\n",
    "            linestyle='--', color='red')\n",
    "    \n",
    "    plt.fill_between(forecast_global.index, forecast_ci_global['IntervaloBajo'], forecast_ci_global['IntervaloAlto'],\n",
    "                    color='r', alpha=0.25, label='Intervalo de Confianza (aprox. 5%)')\n",
    "    plt.title('Pronóstico de Ventas Global')\n",
    "    plt.xlabel('Fecha')\n",
    "    plt.ylabel('Ventas')\n",
    "    plt.legend()\n",
    "    plt.grid(True)\n",
    "    plt.savefig('imagenes/PronosticoGlobalEstimacion.png')\n",
    "    plt.close()\n",
    "    \n",
    "except Exception as e:\n",
    "    print(f\"No se pudo generar pronóstico global. Error: {e}\")\n",
    "\n",
    "# Mostrar los primeros registros del DataFrame final\n",
    "print(pronosticos_df.head())"
   ]
  }
 ],
 "metadata": {
  "kernelspec": {
   "display_name": "Python 3",
   "language": "python",
   "name": "python3"
  },
  "language_info": {
   "codemirror_mode": {
    "name": "ipython",
    "version": 3
   },
   "file_extension": ".py",
   "mimetype": "text/x-python",
   "name": "python",
   "nbconvert_exporter": "python",
   "pygments_lexer": "ipython3",
   "version": "3.13.5"
  }
 },
 "nbformat": 4,
 "nbformat_minor": 2
}
